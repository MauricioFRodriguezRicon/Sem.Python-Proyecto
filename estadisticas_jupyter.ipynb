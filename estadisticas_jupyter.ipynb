{
 "cells": [
  {
   "attachments": {},
   "cell_type": "markdown",
   "metadata": {},
   "source": [
    "antes de crear cualquier codigo importo lo necesario"
   ]
  },
  {
   "cell_type": "code",
   "execution_count": 2,
   "metadata": {},
   "outputs": [],
   "source": [
    "import os\n",
    "import pandas as pd\n",
    "import matplotlib.pyplot as plt\n",
    "from datetime import datetime\n",
    "import json\n"
   ]
  },
  {
   "attachments": {},
   "cell_type": "markdown",
   "metadata": {},
   "source": [
    "creo la ruta del csv con el cual voy a trabajar"
   ]
  },
  {
   "cell_type": "code",
   "execution_count": 3,
   "metadata": {},
   "outputs": [
    {
     "data": {
      "text/plain": [
       "'c:\\\\Users\\\\facup\\\\OneDrive\\\\Escritorio\\\\prueba\\\\ventanas\\\\csv\\\\imagenes.csv'"
      ]
     },
     "execution_count": 3,
     "metadata": {},
     "output_type": "execute_result"
    }
   ],
   "source": [
    "ruta_proyecto = os.path.abspath(os.path.dirname(__name__))\n",
    "ruta_proyecto\n",
    "archivo = os.path.join(ruta_proyecto, \"ventanas\" ,\"csv\", \"imagenes.csv\")  # rutacsv\n",
    "archivo"
   ]
  },
  {
   "attachments": {},
   "cell_type": "markdown",
   "metadata": {},
   "source": [
    "ahora leo el csv el cual voy a utilizar"
   ]
  },
  {
   "cell_type": "code",
   "execution_count": 4,
   "metadata": {},
   "outputs": [
    {
     "data": {
      "text/html": [
       "<div>\n",
       "<style scoped>\n",
       "    .dataframe tbody tr th:only-of-type {\n",
       "        vertical-align: middle;\n",
       "    }\n",
       "\n",
       "    .dataframe tbody tr th {\n",
       "        vertical-align: top;\n",
       "    }\n",
       "\n",
       "    .dataframe thead th {\n",
       "        text-align: right;\n",
       "    }\n",
       "</style>\n",
       "<table border=\"1\" class=\"dataframe\">\n",
       "  <thead>\n",
       "    <tr style=\"text-align: right;\">\n",
       "      <th></th>\n",
       "      <th>ruta_relativa</th>\n",
       "      <th>texto descriptivo</th>\n",
       "      <th>resolucion</th>\n",
       "      <th>tamanio</th>\n",
       "      <th>tipo</th>\n",
       "      <th>lista de tags</th>\n",
       "      <th>ultimo perfil que actualizo</th>\n",
       "      <th>ultima actualizacion</th>\n",
       "    </tr>\n",
       "  </thead>\n",
       "  <tbody>\n",
       "    <tr>\n",
       "      <th>0</th>\n",
       "      <td>cara.png</td>\n",
       "      <td></td>\n",
       "      <td>(225, 225)</td>\n",
       "      <td>5</td>\n",
       "      <td>PNG</td>\n",
       "      <td>dibujito,carita,sonrisa</td>\n",
       "      <td>facundo</td>\n",
       "      <td>1687029817</td>\n",
       "    </tr>\n",
       "    <tr>\n",
       "      <th>1</th>\n",
       "      <td>charmander.png</td>\n",
       "      <td></td>\n",
       "      <td>(211, 239)</td>\n",
       "      <td>8</td>\n",
       "      <td>PNG</td>\n",
       "      <td>dibujito,pokemon,fuego,carita,primera evolucion</td>\n",
       "      <td>martin</td>\n",
       "      <td>1687031757</td>\n",
       "    </tr>\n",
       "    <tr>\n",
       "      <th>2</th>\n",
       "      <td>messi.png</td>\n",
       "      <td></td>\n",
       "      <td>(276, 182)</td>\n",
       "      <td>8</td>\n",
       "      <td>PNG</td>\n",
       "      <td>dibujito,messi,futbol,pelota</td>\n",
       "      <td>martin</td>\n",
       "      <td>1687133778</td>\n",
       "    </tr>\n",
       "    <tr>\n",
       "      <th>3</th>\n",
       "      <td>patricio.png</td>\n",
       "      <td></td>\n",
       "      <td>(203, 248)</td>\n",
       "      <td>7</td>\n",
       "      <td>PNG</td>\n",
       "      <td>dibujito,patircio,mar,bob esponja</td>\n",
       "      <td>federico</td>\n",
       "      <td>1687030045</td>\n",
       "    </tr>\n",
       "  </tbody>\n",
       "</table>\n",
       "</div>"
      ],
      "text/plain": [
       "    ruta_relativa texto descriptivo  resolucion  tamanio tipo   \n",
       "0        cara.png                    (225, 225)        5  PNG  \\\n",
       "1  charmander.png                    (211, 239)        8  PNG   \n",
       "2       messi.png                    (276, 182)        8  PNG   \n",
       "3    patricio.png                    (203, 248)        7  PNG   \n",
       "\n",
       "                                     lista de tags   \n",
       "0                          dibujito,carita,sonrisa  \\\n",
       "1  dibujito,pokemon,fuego,carita,primera evolucion   \n",
       "2                     dibujito,messi,futbol,pelota   \n",
       "3                dibujito,patircio,mar,bob esponja   \n",
       "\n",
       "  ultimo perfil que actualizo  ultima actualizacion  \n",
       "0                     facundo            1687029817  \n",
       "1                      martin            1687031757  \n",
       "2                      martin            1687133778  \n",
       "3                    federico            1687030045  "
      ]
     },
     "execution_count": 4,
     "metadata": {},
     "output_type": "execute_result"
    }
   ],
   "source": [
    "df = pd.read_csv(archivo)\n",
    "df"
   ]
  },
  {
   "attachments": {},
   "cell_type": "markdown",
   "metadata": {},
   "source": [
    "creo el grafico de tortas que me muestra el porcentaje de cada tipo segun la imagen"
   ]
  },
  {
   "attachments": {},
   "cell_type": "markdown",
   "metadata": {},
   "source": [
    "si agrego esto al csv, cambia, pero no puedo hacer que la app lea imagenes con .jpg\n",
    "pinguino.jpg,pinguino,\"(203, 268)\",7,JPG,\"['dibujitos']\", ,1686609789\n",
    "carita.jpg,carita,\"(201, 90)\",7,JPG,\"['dibujitos']\", ,1686609789\n",
    "pikachu.jpeg,carita,\"(100, 300)\",7,JPEG,\"['dibujitos']\", ,1686609789"
   ]
  },
  {
   "cell_type": "code",
   "execution_count": 67,
   "metadata": {},
   "outputs": [
    {
     "name": "stdout",
     "output_type": "stream",
     "text": [
      "{'PNG'}\n"
     ]
    },
    {
     "data": {
      "image/png": "[encoded data removed]",
      "text/plain": [
       "<Figure size 640x480 with 1 Axes>"
      ]
     },
     "metadata": {},
     "output_type": "display_data"
    }
   ],
   "source": [
    "tipos = df['tipo'].value_counts().sort_values(ascending=False)\n",
    "etiquetas = set(df['tipo'].values)\n",
    "print(etiquetas)\n",
    "data = list(tipos.values)\n",
    "plt.pie(data, autopct='%1.4f%%', startangle=90)\n",
    "plt.legend(etiquetas)\n",
    "\n",
    "plt.title('Cada tipo')\n",
    "plt.show()"
   ]
  },
  {
   "attachments": {},
   "cell_type": "markdown",
   "metadata": {},
   "source": [
    "saco los maximos de altura y anchura de las fotos"
   ]
  },
  {
   "cell_type": "code",
   "execution_count": 70,
   "metadata": {},
   "outputs": [
    {
     "data": {
      "text/plain": [
       "[(225, 225), (211, 239), (276, 182), (203, 248)]"
      ]
     },
     "execution_count": 70,
     "metadata": {},
     "output_type": "execute_result"
    }
   ],
   "source": [
    "# Función de conversiion de una tupla en cadena a tupla objeto\n",
    "def convertir_a_tupla(cadena):\n",
    "    cadena_limpia = cadena.strip('()')  # Eliminar paréntesis de inicio y fin\n",
    "    elementos = cadena_limpia.split(', ')  # Dividir la cadena en elementos separados por coma y espacio\n",
    "    tupla = tuple(map(int, elementos))  # Convertir cada elemento a entero y crear la tupla\n",
    "    return tupla\n",
    "\n",
    "lista_cadenas = list(df['resolucion'])\n",
    "# Convertir la lista de cadenas a lista de tuplas\n",
    "lista_tuplas = [convertir_a_tupla(cadena) for cadena in lista_cadenas]\n",
    "\n",
    "lista_tuplas\n"
   ]
  },
  {
   "cell_type": "code",
   "execution_count": 69,
   "metadata": {},
   "outputs": [
    {
     "data": {
      "text/plain": [
       "('El mas grande de alto es: ', 276, '. El mas grande de ancho es: ', 248)"
      ]
     },
     "execution_count": 69,
     "metadata": {},
     "output_type": "execute_result"
    }
   ],
   "source": [
    "def mas_grande(lista):\n",
    "    '''' \n",
    "    lo que hace esta funcion es recibir una lista de tuplas con el ancho y alto, y devolver el alto mas grande\n",
    "    '''\n",
    "    max_alto = max(lista, key=lambda x:x[0])#saco el mayor por el primer elem de la tupla\n",
    "    max_ancho = max(lista, key=lambda x:x[1])#saco el mayor por el segundo elem de la tupla\n",
    "    devolver = 'El mas grande de alto es: ',max_alto[0],'. El mas grande de ancho es: ',max_ancho[1]\n",
    "    \n",
    "    return devolver\n",
    "mas_grande(lista_tuplas)"
   ]
  },
  {
   "attachments": {},
   "cell_type": "markdown",
   "metadata": {},
   "source": [
    "grafico de dispersion de las alturas y ancho de las fotos"
   ]
  },
  {
   "cell_type": "code",
   "execution_count": 72,
   "metadata": {},
   "outputs": [
    {
     "data": {
      "image/png": "[encoded data removed]",
      "text/plain": [
       "<Figure size 640x480 with 1 Axes>"
      ]
     },
     "metadata": {},
     "output_type": "display_data"
    }
   ],
   "source": [
    "#pongo en listas los elementos a graficar\n",
    "lista_altos = list(map( lambda x:x[0], lista_tuplas))#los elementos de altura\n",
    "lista_anchos = list(map( lambda x:x[1], lista_tuplas))#los elementos del ancho\n",
    "#grafico\n",
    "fig, ax = plt.subplots()\n",
    "ax.scatter(lista_altos, lista_anchos)\n",
    "plt.show()"
   ]
  },
  {
   "attachments": {},
   "cell_type": "markdown",
   "metadata": {},
   "source": [
    "agrego una columna con la fecha de modificacion en otro formato"
   ]
  },
  {
   "cell_type": "code",
   "execution_count": 73,
   "metadata": {},
   "outputs": [],
   "source": [
    "# Convertir la columna 'ultima actualizacion' de str a int\n",
    "df['ultima actualizacion'] = df['ultima actualizacion'].astype(int)\n"
   ]
  },
  {
   "cell_type": "code",
   "execution_count": 74,
   "metadata": {},
   "outputs": [
    {
     "data": {
      "text/html": [
       "<div>\n",
       "<style scoped>\n",
       "    .dataframe tbody tr th:only-of-type {\n",
       "        vertical-align: middle;\n",
       "    }\n",
       "\n",
       "    .dataframe tbody tr th {\n",
       "        vertical-align: top;\n",
       "    }\n",
       "\n",
       "    .dataframe thead th {\n",
       "        text-align: right;\n",
       "    }\n",
       "</style>\n",
       "<table border=\"1\" class=\"dataframe\">\n",
       "  <thead>\n",
       "    <tr style=\"text-align: right;\">\n",
       "      <th></th>\n",
       "      <th>ruta_relativa</th>\n",
       "      <th>texto descriptivo</th>\n",
       "      <th>resolucion</th>\n",
       "      <th>tamanio</th>\n",
       "      <th>tipo</th>\n",
       "      <th>lista de tags</th>\n",
       "      <th>ultimo perfil que actualizo</th>\n",
       "      <th>ultima actualizacion</th>\n",
       "      <th>fecha</th>\n",
       "    </tr>\n",
       "  </thead>\n",
       "  <tbody>\n",
       "    <tr>\n",
       "      <th>0</th>\n",
       "      <td>cara.png</td>\n",
       "      <td></td>\n",
       "      <td>(225, 225)</td>\n",
       "      <td>5</td>\n",
       "      <td>PNG</td>\n",
       "      <td>dibujito,carita,sonrisa</td>\n",
       "      <td>facundo</td>\n",
       "      <td>1687029817</td>\n",
       "      <td>2023-06-17 16:23:37</td>\n",
       "    </tr>\n",
       "    <tr>\n",
       "      <th>1</th>\n",
       "      <td>charmander.png</td>\n",
       "      <td></td>\n",
       "      <td>(211, 239)</td>\n",
       "      <td>8</td>\n",
       "      <td>PNG</td>\n",
       "      <td>dibujito,pokemon,fuego,carita,primera evolucion</td>\n",
       "      <td>martin</td>\n",
       "      <td>1687031757</td>\n",
       "      <td>2023-06-17 16:55:57</td>\n",
       "    </tr>\n",
       "    <tr>\n",
       "      <th>2</th>\n",
       "      <td>messi.png</td>\n",
       "      <td></td>\n",
       "      <td>(276, 182)</td>\n",
       "      <td>8</td>\n",
       "      <td>PNG</td>\n",
       "      <td>dibujito,messi,futbol</td>\n",
       "      <td>facundo</td>\n",
       "      <td>1687029876</td>\n",
       "      <td>2023-06-17 16:24:36</td>\n",
       "    </tr>\n",
       "    <tr>\n",
       "      <th>3</th>\n",
       "      <td>patricio.png</td>\n",
       "      <td></td>\n",
       "      <td>(203, 248)</td>\n",
       "      <td>7</td>\n",
       "      <td>PNG</td>\n",
       "      <td>dibujito,patircio,mar,bob esponja</td>\n",
       "      <td>federico</td>\n",
       "      <td>1687030045</td>\n",
       "      <td>2023-06-17 16:27:25</td>\n",
       "    </tr>\n",
       "  </tbody>\n",
       "</table>\n",
       "</div>"
      ],
      "text/plain": [
       "    ruta_relativa texto descriptivo  resolucion  tamanio tipo   \n",
       "0        cara.png                    (225, 225)        5  PNG  \\\n",
       "1  charmander.png                    (211, 239)        8  PNG   \n",
       "2       messi.png                    (276, 182)        8  PNG   \n",
       "3    patricio.png                    (203, 248)        7  PNG   \n",
       "\n",
       "                                     lista de tags   \n",
       "0                          dibujito,carita,sonrisa  \\\n",
       "1  dibujito,pokemon,fuego,carita,primera evolucion   \n",
       "2                            dibujito,messi,futbol   \n",
       "3                dibujito,patircio,mar,bob esponja   \n",
       "\n",
       "  ultimo perfil que actualizo  ultima actualizacion               fecha  \n",
       "0                     facundo            1687029817 2023-06-17 16:23:37  \n",
       "1                      martin            1687031757 2023-06-17 16:55:57  \n",
       "2                     facundo            1687029876 2023-06-17 16:24:36  \n",
       "3                    federico            1687030045 2023-06-17 16:27:25  "
      ]
     },
     "execution_count": 74,
     "metadata": {},
     "output_type": "execute_result"
    }
   ],
   "source": [
    "df['fecha'] = df['ultima actualizacion'].apply(lambda x: datetime.fromtimestamp(x))  #cambio el formato de la actualizacion\n",
    "df"
   ]
  },
  {
   "attachments": {},
   "cell_type": "markdown",
   "metadata": {},
   "source": [
    "con esa nueva columna agregada, agrupo segun cuantas modificaciones se hicieron por dia en las fotos"
   ]
  },
  {
   "cell_type": "code",
   "execution_count": 75,
   "metadata": {},
   "outputs": [
    {
     "data": {
      "text/html": [
       "<div>\n",
       "<style scoped>\n",
       "    .dataframe tbody tr th:only-of-type {\n",
       "        vertical-align: middle;\n",
       "    }\n",
       "\n",
       "    .dataframe tbody tr th {\n",
       "        vertical-align: top;\n",
       "    }\n",
       "\n",
       "    .dataframe thead th {\n",
       "        text-align: right;\n",
       "    }\n",
       "</style>\n",
       "<table border=\"1\" class=\"dataframe\">\n",
       "  <thead>\n",
       "    <tr style=\"text-align: right;\">\n",
       "      <th></th>\n",
       "      <th>ruta_relativa</th>\n",
       "      <th>texto descriptivo</th>\n",
       "      <th>resolucion</th>\n",
       "      <th>tamanio</th>\n",
       "      <th>tipo</th>\n",
       "      <th>lista de tags</th>\n",
       "      <th>ultimo perfil que actualizo</th>\n",
       "      <th>ultima actualizacion</th>\n",
       "      <th>fecha</th>\n",
       "      <th>dias_semana</th>\n",
       "    </tr>\n",
       "  </thead>\n",
       "  <tbody>\n",
       "    <tr>\n",
       "      <th>0</th>\n",
       "      <td>cara.png</td>\n",
       "      <td></td>\n",
       "      <td>(225, 225)</td>\n",
       "      <td>5</td>\n",
       "      <td>PNG</td>\n",
       "      <td>dibujito,carita,sonrisa</td>\n",
       "      <td>facundo</td>\n",
       "      <td>1687029817</td>\n",
       "      <td>2023-06-17 16:23:37</td>\n",
       "      <td>Saturday</td>\n",
       "    </tr>\n",
       "    <tr>\n",
       "      <th>1</th>\n",
       "      <td>charmander.png</td>\n",
       "      <td></td>\n",
       "      <td>(211, 239)</td>\n",
       "      <td>8</td>\n",
       "      <td>PNG</td>\n",
       "      <td>dibujito,pokemon,fuego,carita,primera evolucion</td>\n",
       "      <td>martin</td>\n",
       "      <td>1687031757</td>\n",
       "      <td>2023-06-17 16:55:57</td>\n",
       "      <td>Saturday</td>\n",
       "    </tr>\n",
       "    <tr>\n",
       "      <th>2</th>\n",
       "      <td>messi.png</td>\n",
       "      <td></td>\n",
       "      <td>(276, 182)</td>\n",
       "      <td>8</td>\n",
       "      <td>PNG</td>\n",
       "      <td>dibujito,messi,futbol</td>\n",
       "      <td>facundo</td>\n",
       "      <td>1687029876</td>\n",
       "      <td>2023-06-17 16:24:36</td>\n",
       "      <td>Saturday</td>\n",
       "    </tr>\n",
       "    <tr>\n",
       "      <th>3</th>\n",
       "      <td>patricio.png</td>\n",
       "      <td></td>\n",
       "      <td>(203, 248)</td>\n",
       "      <td>7</td>\n",
       "      <td>PNG</td>\n",
       "      <td>dibujito,patircio,mar,bob esponja</td>\n",
       "      <td>federico</td>\n",
       "      <td>1687030045</td>\n",
       "      <td>2023-06-17 16:27:25</td>\n",
       "      <td>Saturday</td>\n",
       "    </tr>\n",
       "  </tbody>\n",
       "</table>\n",
       "</div>"
      ],
      "text/plain": [
       "    ruta_relativa texto descriptivo  resolucion  tamanio tipo   \n",
       "0        cara.png                    (225, 225)        5  PNG  \\\n",
       "1  charmander.png                    (211, 239)        8  PNG   \n",
       "2       messi.png                    (276, 182)        8  PNG   \n",
       "3    patricio.png                    (203, 248)        7  PNG   \n",
       "\n",
       "                                     lista de tags   \n",
       "0                          dibujito,carita,sonrisa  \\\n",
       "1  dibujito,pokemon,fuego,carita,primera evolucion   \n",
       "2                            dibujito,messi,futbol   \n",
       "3                dibujito,patircio,mar,bob esponja   \n",
       "\n",
       "  ultimo perfil que actualizo  ultima actualizacion               fecha   \n",
       "0                     facundo            1687029817 2023-06-17 16:23:37  \\\n",
       "1                      martin            1687031757 2023-06-17 16:55:57   \n",
       "2                     facundo            1687029876 2023-06-17 16:24:36   \n",
       "3                    federico            1687030045 2023-06-17 16:27:25   \n",
       "\n",
       "  dias_semana  \n",
       "0    Saturday  \n",
       "1    Saturday  \n",
       "2    Saturday  \n",
       "3    Saturday  "
      ]
     },
     "execution_count": 75,
     "metadata": {},
     "output_type": "execute_result"
    }
   ],
   "source": [
    "df['dias_semana'] = df['fecha'].dt.day_name() #agrupo por dia\n",
    "df"
   ]
  },
  {
   "attachments": {},
   "cell_type": "markdown",
   "metadata": {},
   "source": [
    "creo un diccionario con la cantidad de act por dia"
   ]
  },
  {
   "cell_type": "code",
   "execution_count": 76,
   "metadata": {},
   "outputs": [
    {
     "name": "stdout",
     "output_type": "stream",
     "text": [
      "{'Saturday': 4}\n"
     ]
    }
   ],
   "source": [
    "lista_dias = df['dias_semana']\n",
    "\n",
    "diccionario = {}\n",
    "for elemento in lista_dias:\n",
    "    if elemento in diccionario:\n",
    "        diccionario[elemento] += 1\n",
    "    else:\n",
    "        diccionario[elemento] = 1\n",
    "\n",
    "print(diccionario)\n",
    "dias = list(diccionario.keys())\n",
    "valores = list(diccionario.values())"
   ]
  },
  {
   "attachments": {},
   "cell_type": "markdown",
   "metadata": {},
   "source": [
    "creo el grafico de cantidad de cambios realizados para cada día de la semana"
   ]
  },
  {
   "cell_type": "code",
   "execution_count": 77,
   "metadata": {},
   "outputs": [
    {
     "data": {
      "image/png": "[encoded data removed]",
      "text/plain": [
       "<Figure size 640x480 with 1 Axes>"
      ]
     },
     "metadata": {},
     "output_type": "display_data"
    }
   ],
   "source": [
    "fig, ax = plt.subplots()\n",
    "ax.bar(dias, valores)\n",
    "plt.show()"
   ]
  },
  {
   "attachments": {},
   "cell_type": "markdown",
   "metadata": {},
   "source": [
    "grafico de líneas para visualizar la evolución de la cantidad de actualizaciones a lo largo del tiempo"
   ]
  },
  {
   "cell_type": "code",
   "execution_count": 78,
   "metadata": {},
   "outputs": [
    {
     "data": {
      "image/png": "[encoded data removed]",
      "text/plain": [
       "<Figure size 640x480 with 1 Axes>"
      ]
     },
     "metadata": {},
     "output_type": "display_data"
    }
   ],
   "source": [
    "fig, ax = plt.subplots()\n",
    "ax.plot(dias,valores)\n",
    "plt.show()"
   ]
  },
  {
   "cell_type": "code",
   "execution_count": 79,
   "metadata": {},
   "outputs": [
    {
     "data": {
      "text/plain": [
       "0             dibujito\n",
       "0               carita\n",
       "0              sonrisa\n",
       "1             dibujito\n",
       "1              pokemon\n",
       "1                fuego\n",
       "1               carita\n",
       "1    primera evolucion\n",
       "2             dibujito\n",
       "2                messi\n",
       "2               futbol\n",
       "3             dibujito\n",
       "3             patircio\n",
       "3                  mar\n",
       "3          bob esponja\n",
       "Name: lista de tags, dtype: object"
      ]
     },
     "execution_count": 79,
     "metadata": {},
     "output_type": "execute_result"
    }
   ],
   "source": [
    "df2 = df.copy()\n",
    "df2['lista de tags'] = df2['lista de tags'].str.split(',')\n",
    "df2['lista de tags'].explode() #pongo los tags separados en una lista pero me lee tambien los corchetes y espacios"
   ]
  },
  {
   "attachments": {},
   "cell_type": "markdown",
   "metadata": {},
   "source": [
    "lo que hago en la celda siguiente es acomodar todas las palabras con las cuales voy a crear una nube de palabras"
   ]
  },
  {
   "cell_type": "code",
   "execution_count": 80,
   "metadata": {},
   "outputs": [
    {
     "name": "stdout",
     "output_type": "stream",
     "text": [
      "['dibujito', 'carita', 'sonrisa', 'dibujito', 'pokemon', 'fuego', 'carita', 'primeraevolucion', 'dibujito', 'messi', 'futbol', 'dibujito', 'patircio', 'mar', 'bobesponja']\n"
     ]
    }
   ],
   "source": [
    "lista_palabras = [palabra for lista in df2['lista de tags'] for palabra in lista]\n",
    "\n",
    "caracteres_a_eliminar = ['[', ']', '',\"'\", '\"',' ']\n",
    "\n",
    "tabla_de_traduccion = str.maketrans('', '', ''.join(caracteres_a_eliminar))\n",
    "\n",
    "lista_sin_caracteres = [elemento.translate(tabla_de_traduccion) for elemento in lista_palabras]\n",
    "\n",
    "print(lista_sin_caracteres)#hice esto por que sino las que son iguales pero con espacios no me los tomaba como iguales"
   ]
  },
  {
   "attachments": {},
   "cell_type": "markdown",
   "metadata": {},
   "source": [
    "creo la nube de palabras"
   ]
  },
  {
   "cell_type": "code",
   "execution_count": 81,
   "metadata": {},
   "outputs": [
    {
     "data": {
      "image/png": "[encoded data removed]",
      "text/plain": [
       "<Figure size 4000x3000 with 1 Axes>"
      ]
     },
     "metadata": {},
     "output_type": "display_data"
    }
   ],
   "source": [
    "import numpy as np\n",
    "from PIL import Image\n",
    "from wordcloud import WordCloud, STOPWORDS\n",
    "import matplotlib.pyplot as plt\n",
    "# Define a function to plot word cloud\n",
    "def plot_cloud(wordcloud):\n",
    "    # Set figure size\n",
    "    plt.figure(figsize=(40, 30))\n",
    "    # Display image\n",
    "    plt.imshow(wordcloud)\n",
    "    # No axis details\n",
    "    plt.axis(\"off\")\n",
    "text = str(lista_sin_caracteres)\n",
    "# Generate wordcloud\n",
    "wordcloud = WordCloud(width = 300, height = 200, random_state=1,background_color='white', colormap='Set2', collocations=False, stopwords =STOPWORDS).generate(text)\n",
    "# Plot\n",
    "plot_cloud(wordcloud)\n"
   ]
  },
  {
   "attachments": {},
   "cell_type": "markdown",
   "metadata": {},
   "source": [
    "ver los 3 tags mas utilizados"
   ]
  },
  {
   "attachments": {},
   "cell_type": "markdown",
   "metadata": {},
   "source": [
    "aca creo un diccionario con la cantidad de veces que aparece cada palabra, la palabra como llave y su cantidad como valor, para luego poder crear un dataframe con esos valores y ver los primeros 3 tags mas utilizados "
   ]
  },
  {
   "cell_type": "code",
   "execution_count": 82,
   "metadata": {},
   "outputs": [
    {
     "data": {
      "text/html": [
       "<div>\n",
       "<style scoped>\n",
       "    .dataframe tbody tr th:only-of-type {\n",
       "        vertical-align: middle;\n",
       "    }\n",
       "\n",
       "    .dataframe tbody tr th {\n",
       "        vertical-align: top;\n",
       "    }\n",
       "\n",
       "    .dataframe thead th {\n",
       "        text-align: right;\n",
       "    }\n",
       "</style>\n",
       "<table border=\"1\" class=\"dataframe\">\n",
       "  <thead>\n",
       "    <tr style=\"text-align: right;\">\n",
       "      <th></th>\n",
       "      <th>tag</th>\n",
       "      <th>cantidad</th>\n",
       "    </tr>\n",
       "  </thead>\n",
       "  <tbody>\n",
       "    <tr>\n",
       "      <th>0</th>\n",
       "      <td>dibujito</td>\n",
       "      <td>4</td>\n",
       "    </tr>\n",
       "    <tr>\n",
       "      <th>1</th>\n",
       "      <td>carita</td>\n",
       "      <td>2</td>\n",
       "    </tr>\n",
       "    <tr>\n",
       "      <th>2</th>\n",
       "      <td>sonrisa</td>\n",
       "      <td>1</td>\n",
       "    </tr>\n",
       "  </tbody>\n",
       "</table>\n",
       "</div>"
      ],
      "text/plain": [
       "        tag cantidad\n",
       "0  dibujito        4\n",
       "1    carita        2\n",
       "2   sonrisa        1"
      ]
     },
     "execution_count": 82,
     "metadata": {},
     "output_type": "execute_result"
    }
   ],
   "source": [
    "dic = {}\n",
    "for elemento in lista_sin_caracteres:\n",
    "    if elemento in dic:\n",
    "        dic[elemento] += 1\n",
    "    else:\n",
    "        dic[elemento] = 1\n",
    "\n",
    "dias = list(dic.keys())\n",
    "valores = list(dic.values())\n",
    "\n",
    "diccionario_ordenado = dict(sorted(dic.items(), key=lambda x: x[1], reverse=True))\n",
    "df_cant = pd.DataFrame({'tag': [f\"{elem}\" for elem in diccionario_ordenado.keys()],\n",
    "                    'cantidad': [f\"{elem}\" for elem in diccionario_ordenado.values()]})\n",
    "\n",
    "df_cant.head(3)"
   ]
  },
  {
   "attachments": {},
   "cell_type": "markdown",
   "metadata": {},
   "source": [
    "Calcular el tamaño en bytes promedio de las imágenes actualizadas por cada perfil, incluir los perfiles que no hayan realizado actualizaciones."
   ]
  },
  {
   "cell_type": "code",
   "execution_count": 83,
   "metadata": {},
   "outputs": [
    {
     "data": {
      "text/html": [
       "<div>\n",
       "<style scoped>\n",
       "    .dataframe tbody tr th:only-of-type {\n",
       "        vertical-align: middle;\n",
       "    }\n",
       "\n",
       "    .dataframe tbody tr th {\n",
       "        vertical-align: top;\n",
       "    }\n",
       "\n",
       "    .dataframe thead th {\n",
       "        text-align: right;\n",
       "    }\n",
       "</style>\n",
       "<table border=\"1\" class=\"dataframe\">\n",
       "  <thead>\n",
       "    <tr style=\"text-align: right;\">\n",
       "      <th></th>\n",
       "      <th>nombre</th>\n",
       "    </tr>\n",
       "  </thead>\n",
       "  <tbody>\n",
       "    <tr>\n",
       "      <th>0</th>\n",
       "      <td>facundo</td>\n",
       "    </tr>\n",
       "    <tr>\n",
       "      <th>1</th>\n",
       "      <td>federico</td>\n",
       "    </tr>\n",
       "    <tr>\n",
       "      <th>2</th>\n",
       "      <td>martin</td>\n",
       "    </tr>\n",
       "    <tr>\n",
       "      <th>3</th>\n",
       "      <td>martina</td>\n",
       "    </tr>\n",
       "    <tr>\n",
       "      <th>4</th>\n",
       "      <td>gigi</td>\n",
       "    </tr>\n",
       "    <tr>\n",
       "      <th>5</th>\n",
       "      <td>lorena</td>\n",
       "    </tr>\n",
       "    <tr>\n",
       "      <th>6</th>\n",
       "      <td>franco armani</td>\n",
       "    </tr>\n",
       "    <tr>\n",
       "      <th>7</th>\n",
       "      <td>mauricio</td>\n",
       "    </tr>\n",
       "  </tbody>\n",
       "</table>\n",
       "</div>"
      ],
      "text/plain": [
       "          nombre\n",
       "0        facundo\n",
       "1       federico\n",
       "2         martin\n",
       "3        martina\n",
       "4           gigi\n",
       "5         lorena\n",
       "6  franco armani\n",
       "7       mauricio"
      ]
     },
     "execution_count": 83,
     "metadata": {},
     "output_type": "execute_result"
    }
   ],
   "source": [
    "#lista de todos los perfiles de la app\n",
    "archivo_json = os.path.join(ruta_proyecto, \"ventanas\" ,\"json\", \"perfiles.json\")  # rutajson\n",
    "\"\"\"Se bajan los datos del json para poder trabajar\"\"\"\n",
    "with open(archivo_json) as file:\n",
    "    data = json.load(file)\n",
    "\n",
    "#usuarios = data['usuarios']\n",
    "\n",
    "nombres_usuarios = []\n",
    "\n",
    "for usuario in data:\n",
    "    nombre = usuario['nombre']\n",
    "    nombres_usuarios.append(nombre)\n",
    "\n",
    "\n",
    "df_todos_nombres = pd.DataFrame({'nombre':nombres_usuarios})\n",
    "df_todos_nombres\n",
    "#creo un dataframe con todos los nombres de todos los usuarios"
   ]
  },
  {
   "cell_type": "code",
   "execution_count": 84,
   "metadata": {},
   "outputs": [
    {
     "name": "stdout",
     "output_type": "stream",
     "text": [
      "[('facundo', 5), ('martin', 8), ('facundo', 8), ('federico', 7)]\n"
     ]
    },
    {
     "data": {
      "text/html": [
       "<div>\n",
       "<style scoped>\n",
       "    .dataframe tbody tr th:only-of-type {\n",
       "        vertical-align: middle;\n",
       "    }\n",
       "\n",
       "    .dataframe tbody tr th {\n",
       "        vertical-align: top;\n",
       "    }\n",
       "\n",
       "    .dataframe thead th {\n",
       "        text-align: right;\n",
       "    }\n",
       "</style>\n",
       "<table border=\"1\" class=\"dataframe\">\n",
       "  <thead>\n",
       "    <tr style=\"text-align: right;\">\n",
       "      <th></th>\n",
       "      <th>nombre</th>\n",
       "      <th>tamanio</th>\n",
       "    </tr>\n",
       "  </thead>\n",
       "  <tbody>\n",
       "    <tr>\n",
       "      <th>0</th>\n",
       "      <td>facundo</td>\n",
       "      <td>5</td>\n",
       "    </tr>\n",
       "    <tr>\n",
       "      <th>1</th>\n",
       "      <td>martin</td>\n",
       "      <td>8</td>\n",
       "    </tr>\n",
       "    <tr>\n",
       "      <th>2</th>\n",
       "      <td>facundo</td>\n",
       "      <td>8</td>\n",
       "    </tr>\n",
       "    <tr>\n",
       "      <th>3</th>\n",
       "      <td>federico</td>\n",
       "      <td>7</td>\n",
       "    </tr>\n",
       "  </tbody>\n",
       "</table>\n",
       "</div>"
      ],
      "text/plain": [
       "     nombre  tamanio\n",
       "0   facundo        5\n",
       "1    martin        8\n",
       "2   facundo        8\n",
       "3  federico        7"
      ]
     },
     "execution_count": 84,
     "metadata": {},
     "output_type": "execute_result"
    }
   ],
   "source": [
    "#saco el nombre y el tamaño de la foto del que modificó\n",
    "lista_apariciones = list(zip(df['ultimo perfil que actualizo'], df['tamanio']))#lista de cada usuario que modifico y el tamanio de la foto que modifico\n",
    "print(lista_apariciones)\n",
    "frame_apariciones = pd.DataFrame(lista_apariciones, columns=['nombre','tamanio'])#frame del usuario con el tamamnio de la foto que modifico\n",
    "frame_apariciones"
   ]
  },
  {
   "cell_type": "code",
   "execution_count": 85,
   "metadata": {},
   "outputs": [
    {
     "name": "stdout",
     "output_type": "stream",
     "text": [
      "[6.5, 7.0, 8.0]\n",
      "     nombre  promedio\n",
      "0   facundo       6.5\n",
      "1    martin       7.0\n",
      "2  federico       8.0\n"
     ]
    }
   ],
   "source": [
    "#saco los promedios de los que aparecen\n",
    "prom = list(frame_apariciones.groupby('nombre')['tamanio'].sum()/frame_apariciones['nombre'].value_counts())#promedio\n",
    "data_promedios = pd.DataFrame({'nombre':frame_apariciones['nombre'].unique(),'promedio':prom})\n",
    "print(prom)\n",
    "print(data_promedios)"
   ]
  },
  {
   "cell_type": "code",
   "execution_count": 86,
   "metadata": {},
   "outputs": [
    {
     "data": {
      "text/html": [
       "<div>\n",
       "<style scoped>\n",
       "    .dataframe tbody tr th:only-of-type {\n",
       "        vertical-align: middle;\n",
       "    }\n",
       "\n",
       "    .dataframe tbody tr th {\n",
       "        vertical-align: top;\n",
       "    }\n",
       "\n",
       "    .dataframe thead th {\n",
       "        text-align: right;\n",
       "    }\n",
       "</style>\n",
       "<table border=\"1\" class=\"dataframe\">\n",
       "  <thead>\n",
       "    <tr style=\"text-align: right;\">\n",
       "      <th></th>\n",
       "      <th>nombre</th>\n",
       "      <th>promedio</th>\n",
       "    </tr>\n",
       "  </thead>\n",
       "  <tbody>\n",
       "    <tr>\n",
       "      <th>0</th>\n",
       "      <td>facundo</td>\n",
       "      <td>6.5</td>\n",
       "    </tr>\n",
       "    <tr>\n",
       "      <th>1</th>\n",
       "      <td>federico</td>\n",
       "      <td>8.0</td>\n",
       "    </tr>\n",
       "    <tr>\n",
       "      <th>2</th>\n",
       "      <td>martin</td>\n",
       "      <td>7.0</td>\n",
       "    </tr>\n",
       "    <tr>\n",
       "      <th>3</th>\n",
       "      <td>martina</td>\n",
       "      <td>NaN</td>\n",
       "    </tr>\n",
       "    <tr>\n",
       "      <th>4</th>\n",
       "      <td>gigi</td>\n",
       "      <td>NaN</td>\n",
       "    </tr>\n",
       "    <tr>\n",
       "      <th>5</th>\n",
       "      <td>lorena</td>\n",
       "      <td>NaN</td>\n",
       "    </tr>\n",
       "    <tr>\n",
       "      <th>6</th>\n",
       "      <td>franco armani</td>\n",
       "      <td>NaN</td>\n",
       "    </tr>\n",
       "    <tr>\n",
       "      <th>7</th>\n",
       "      <td>mauricio</td>\n",
       "      <td>NaN</td>\n",
       "    </tr>\n",
       "  </tbody>\n",
       "</table>\n",
       "</div>"
      ],
      "text/plain": [
       "          nombre  promedio\n",
       "0        facundo       6.5\n",
       "1       federico       8.0\n",
       "2         martin       7.0\n",
       "3        martina       NaN\n",
       "4           gigi       NaN\n",
       "5         lorena       NaN\n",
       "6  franco armani       NaN\n",
       "7       mauricio       NaN"
      ]
     },
     "execution_count": 86,
     "metadata": {},
     "output_type": "execute_result"
    }
   ],
   "source": [
    "join = pd.merge(df_todos_nombres,data_promedios, on='nombre', how='outer')\n",
    "join"
   ]
  }
 ],
 "metadata": {
  "kernelspec": {
   "display_name": "Python 3",
   "language": "python",
   "name": "python3"
  },
  "language_info": {
   "codemirror_mode": {
    "name": "ipython",
    "version": 3
   },
   "file_extension": ".py",
   "mimetype": "text/x-python",
   "name": "python",
   "nbconvert_exporter": "python",
   "pygments_lexer": "ipython3",
   "version": "3.11.2"
  },
  "orig_nbformat": 4
 },
 "nbformat": 4,
 "nbformat_minor": 2
}
